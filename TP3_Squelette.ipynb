{
  "cells": [
    {
      "cell_type": "markdown",
      "metadata": {
        "id": "Yi8yXoiIwwqL"
      },
      "source": [
        "# LOG6308\n",
        "# TP3 : Systèmes de recommandation et réseaux de neurones\n",
        "\n",
        "L'objectif du TP3 est de vous familiariser avec la librairie `Tensorflow` et `Tensorflow Recommenders`. Nous souhaitons aussi vous familiariser avec le concept de réseaux neuronaux.\n",
        "C'est pourquoi nous vous proposons d'effectuer des recommandations de films sur la base de données que vous connaissez bien maintenant : [MovieLens 100k](https://grouplens.org/datasets/movielens/).<br>\n",
        "\n",
        "Le TP sera noté **sur 100**.\n",
        "\n",
        "## Critères de correction\n",
        "\n",
        "- Démarche valide et bien expliquée\n",
        "- Réponses correctes et commentées\n",
        "- Présentation soignée \n",
        "- Choix de fonctionnalités adéquat\n",
        "- Interprétation étayée des résultats\n",
        "\n",
        "## Instructions Globales\n",
        "\n",
        "Le travail doit être fait en **équipe de deux**.\n",
        "\n",
        "Vous avez le droit d'utiliser **seulement** les **librairies importées** pour résoudre les **questions 1, 2 et 3**. Si vous utilisez d’autres librairies, vos réponses ne seront pas considérées.\n",
        "\n",
        "Vous pouvez répondre aux sous-questions en commentaire ou dans des cellules textes en prenant bien soin d’identifier à quelle question vous répondez.\n",
        "Ceux qui le souhaite peuvent développer en local et écrire votre code dans des fichiers Python en `.py`. Ceci dit, j'attends de vous un README.md m'expliquant comment exécuter votre code avec une liste de dépendances (Requirements).\n",
        "\n",
        "Pour les questions 1-2-3, le Notebook est suffisant. Vous pouvez marquer vos commentaires et réponses qualitatives dans des cellules textes. \n",
        "Par contre, pour la question 4, il est recommandé de fournir un rapport séparé du code en format PDF. Mais, si vous ne souhaitez pas rédiger de rapport, vous pouvez rédiger votre état de l’art et votre démarche dans des cellules textes du Notebook sur Colab.\n",
        "\n",
        "\n",
        "Pour la remise du travail sur Moodle, on s’attend à un Zip qui contient un notebook en `.ipynb` et/ou des fichiers Python en `.py`. **Si vous décidez** de **rédiger un rapport** pour la **question 4**, vous devez alors aussi **inclure** un fichier **PDF**. \n"
      ]
    },
    {
      "cell_type": "markdown",
      "metadata": {
        "id": "yQGIsPAV3XZu"
      },
      "source": [
        "### Comment télécharger le notebook\n",
        "\n",
        "- Cliquez sur le menu \"Fichier\" (*File* en anglais) dans le coin supérieur gauche.\n",
        "- Une fenêtre popup apparaît, trouvez `Télécharger -> Télécharger le fichier .ipynb` et cliquez dessus.\n"
      ]
    },
    {
      "cell_type": "markdown",
      "metadata": {
        "id": "aIyu9ymF7loQ"
      },
      "source": [
        "#### Installation de tensorflow datasets, tensorflow recommenders, et importation des librairies requises pour le TP"
      ]
    },
    {
      "cell_type": "code",
      "execution_count": 3,
      "metadata": {
        "colab": {
          "base_uri": "https://localhost:8080/"
        },
        "collapsed": true,
        "id": "iUJAKyxxAA-h",
        "outputId": "7f164548-bd8c-48cc-beb5-9b83f849e00f"
      },
      "outputs": [
        {
          "output_type": "stream",
          "name": "stdout",
          "text": [
            "Collecting tfds-nightly\n",
            "  Downloading tfds_nightly-4.5.2.dev202204150045-py3-none-any.whl (4.3 MB)\n",
            "\u001b[K     |████████████████████████████████| 4.3 MB 8.8 MB/s \n",
            "\u001b[?25hRequirement already satisfied: promise in /usr/local/lib/python3.7/dist-packages (from tfds-nightly) (2.3)\n",
            "Requirement already satisfied: absl-py in /usr/local/lib/python3.7/dist-packages (from tfds-nightly) (1.0.0)\n",
            "Requirement already satisfied: dill in /usr/local/lib/python3.7/dist-packages (from tfds-nightly) (0.3.4)\n",
            "Requirement already satisfied: numpy in /usr/local/lib/python3.7/dist-packages (from tfds-nightly) (1.21.5)\n",
            "Requirement already satisfied: six in /usr/local/lib/python3.7/dist-packages (from tfds-nightly) (1.15.0)\n",
            "Requirement already satisfied: requests>=2.19.0 in /usr/local/lib/python3.7/dist-packages (from tfds-nightly) (2.23.0)\n",
            "Requirement already satisfied: tensorflow-metadata in /usr/local/lib/python3.7/dist-packages (from tfds-nightly) (1.7.0)\n",
            "Requirement already satisfied: termcolor in /usr/local/lib/python3.7/dist-packages (from tfds-nightly) (1.1.0)\n",
            "Requirement already satisfied: importlib-resources in /usr/local/lib/python3.7/dist-packages (from tfds-nightly) (5.6.0)\n",
            "Requirement already satisfied: tqdm in /usr/local/lib/python3.7/dist-packages (from tfds-nightly) (4.64.0)\n",
            "Requirement already satisfied: typing-extensions in /usr/local/lib/python3.7/dist-packages (from tfds-nightly) (4.1.1)\n",
            "Requirement already satisfied: protobuf>=3.12.2 in /usr/local/lib/python3.7/dist-packages (from tfds-nightly) (3.17.3)\n",
            "Collecting toml\n",
            "  Downloading toml-0.10.2-py2.py3-none-any.whl (16 kB)\n",
            "Collecting etils[epath-no-tf]\n",
            "  Downloading etils-0.5.0-py3-none-any.whl (86 kB)\n",
            "\u001b[K     |████████████████████████████████| 86 kB 6.8 MB/s \n",
            "\u001b[?25hRequirement already satisfied: chardet<4,>=3.0.2 in /usr/local/lib/python3.7/dist-packages (from requests>=2.19.0->tfds-nightly) (3.0.4)\n",
            "Requirement already satisfied: certifi>=2017.4.17 in /usr/local/lib/python3.7/dist-packages (from requests>=2.19.0->tfds-nightly) (2021.10.8)\n",
            "Requirement already satisfied: urllib3!=1.25.0,!=1.25.1,<1.26,>=1.21.1 in /usr/local/lib/python3.7/dist-packages (from requests>=2.19.0->tfds-nightly) (1.24.3)\n",
            "Requirement already satisfied: idna<3,>=2.5 in /usr/local/lib/python3.7/dist-packages (from requests>=2.19.0->tfds-nightly) (2.10)\n",
            "Requirement already satisfied: zipp in /usr/local/lib/python3.7/dist-packages (from etils[epath-no-tf]->tfds-nightly) (3.8.0)\n",
            "Requirement already satisfied: googleapis-common-protos<2,>=1.52.0 in /usr/local/lib/python3.7/dist-packages (from tensorflow-metadata->tfds-nightly) (1.56.0)\n",
            "Installing collected packages: etils, toml, tfds-nightly\n",
            "Successfully installed etils-0.5.0 tfds-nightly-4.5.2.dev202204150045 toml-0.10.2\n",
            "\u001b[K     |████████████████████████████████| 85 kB 3.5 MB/s \n",
            "\u001b[K     |████████████████████████████████| 462 kB 45.8 MB/s \n",
            "\u001b[K     |████████████████████████████████| 3.9 MB 9.0 MB/s \n",
            "\u001b[K     |████████████████████████████████| 10.7 MB 8.3 MB/s \n",
            "\u001b[?25h"
          ]
        }
      ],
      "source": [
        "!pip install tfds-nightly\n",
        "!pip install -q tensorflow-recommenders\n",
        "!pip install -q --upgrade tensorflow-datasets==4.3\n",
        "!pip install -q scann"
      ]
    },
    {
      "cell_type": "code",
      "execution_count": 5,
      "metadata": {
        "id": "t5Mylp7CACnE"
      },
      "outputs": [],
      "source": [
        "import os\n",
        "import pprint\n",
        "import tempfile\n",
        "\n",
        "from tqdm import tqdm\n",
        "from typing import Dict, Text\n",
        "\n",
        "import numpy as np\n",
        "import pandas as pd\n",
        "import matplotlib.pyplot as plt\n",
        "\n",
        "import tensorflow as tf\n",
        "import tensorflow_datasets as tfds\n",
        "\n",
        "import tensorflow_recommenders as tfrs"
      ]
    },
    {
      "cell_type": "markdown",
      "metadata": {
        "id": "KbEAcYCo3quT"
      },
      "source": [
        "## Utilisation du GPU\n",
        "Les calculs seront plus rapides si vous utilisez le GPU. Ça sera particulièrement important pour la dernière partie. Pour s'assurer que le notebook utilise le GPU, vous pouvez modifier la configuration ainsi :\n",
        "* (EN) `Edit > Notebook Settings`\n",
        "* (FR) `Modifier > Paramètres du notebook`\n",
        "\n",
        "Par contre, faites attention à ne pas utiliser le GPU si vous n'en avez pas besoin. Colab limite le temps d'utilisation des GPUs pour sa version gratuite."
      ]
    },
    {
      "cell_type": "code",
      "execution_count": 6,
      "metadata": {
        "colab": {
          "base_uri": "https://localhost:8080/"
        },
        "collapsed": true,
        "id": "p1o11-QT8-s9",
        "outputId": "e24abbe9-532b-4807-cf67-d38bddc521bc"
      },
      "outputs": [
        {
          "output_type": "stream",
          "name": "stdout",
          "text": [
            "Vous utilisez actuellement le GPU\n"
          ]
        }
      ],
      "source": [
        "#Test CPU ou GPU\n",
        "if(len(tf.config.list_physical_devices('GPU')) == 0):\n",
        "    print(\"Vous utilisez actuellement le CPU\")\n",
        "else:\n",
        "    print(\"Vous utilisez actuellement le GPU\")"
      ]
    },
    {
      "cell_type": "markdown",
      "metadata": {
        "id": "X51rl6S_7uyy"
      },
      "source": [
        "#### Téléchargement de MovieLens 100k\n",
        "\n",
        "Vous pouvez accéder à la documentation en appuyant sur ce [lien](https://www.tensorflow.org/datasets/catalog/movielens#movielens100k-ratings)."
      ]
    },
    {
      "cell_type": "code",
      "execution_count": 29,
      "metadata": {
        "collapsed": true,
        "id": "zpXu3gy0AIqY"
      },
      "outputs": [],
      "source": [
        "# Extra code\n",
        "#!unrar x Data.rar\n",
        "movies_df  = pd.read_csv('Data/items.csv', sep='|')\n",
        "ratings_df = pd.read_csv('Data/votes.csv', sep='|')\n",
        "ratings_df = ratings_df.rename(columns={'user.id': 'user_id', 'item.id': 'movie_title', 'rating': 'user_rating', 'timestamp': 'timestamp'})\n",
        "ratings_df = ratings_df.astype('float32')\n",
        "ratings = tf.data.Dataset.from_tensor_slices(tf.cast(ratings_df.values, tf.float32))\n",
        "films = ratings\n",
        "\n",
        "# Les votes + des données supplémentaires\n",
        "##ratings = tfds.load(\"movielens/100k-ratings\", split=\"train\", shuffle_files = False)\n",
        "# Les genres, titres et identifiants des films.\n",
        "##films = tfds.load(\"movielens/100k-ratings\", split=\"train\", shuffle_files = False)"
      ]
    },
    {
      "cell_type": "code",
      "execution_count": null,
      "metadata": {
        "colab": {
          "base_uri": "https://localhost:8080/"
        },
        "collapsed": true,
        "id": "lkGxv6l6CYrU",
        "outputId": "4051fd5d-9a03-41a8-c887-988c63352c0b"
      },
      "outputs": [
        {
          "output_type": "execute_result",
          "data": {
            "text/plain": [
              "tensorflow.python.data.ops.dataset_ops.TensorSliceDataset"
            ]
          },
          "metadata": {},
          "execution_count": 5
        }
      ],
      "source": [
        "#tfds\n",
        "type(ratings)"
      ]
    },
    {
      "cell_type": "markdown",
      "metadata": {
        "id": "0X3_idfqBzOl"
      },
      "source": [
        "Comme vous le voyez, `ratings` et `films` sont générés par `tfds` et sont des `tf.data.Dataset`. Pour avoir une idée de comment les utilisées, vous pouvez consulter ces liens : <br>\n",
        "- [DataSet](https://www.tensorflow.org/api_docs/python/tf/data/Dataset)\n",
        "- [tfds](https://www.tensorflow.org/datasets/overview)"
      ]
    },
    {
      "cell_type": "code",
      "execution_count": null,
      "metadata": {
        "colab": {
          "base_uri": "https://localhost:8080/"
        },
        "collapsed": true,
        "id": "CiGdoK_iCFeF",
        "outputId": "00b015c7-2943-4f01-a1cd-3f32387d0293"
      },
      "outputs": [
        {
          "output_type": "stream",
          "name": "stdout",
          "text": [
            "tf.Tensor(1.0, shape=(), dtype=float32)\n"
          ]
        }
      ],
      "source": [
        "# Exemple d'utilisation\n",
        "##list(ratings.map(lambda x: x[\"user_id\"]).take(10))\n",
        "list(ratings.map(lambda x: x[2]).take(10))\n",
        "print(min(ratings.map(lambda x: x[2])))"
      ]
    },
    {
      "cell_type": "markdown",
      "metadata": {
        "id": "-J9HUKr2Gf7a"
      },
      "source": [
        "## Question 1 (15 pts)\n",
        "Dans cette question, nous allons définir et entrainer un modèle dit *Two Tower* afin de prédire les votes selon cette formule :\n",
        "\n",
        "$$pred_{i,j}= b + E_{u_i}^TE_{f_j}.$$\n",
        "\n",
        "\n",
        "Où $(E_{u_i}, E_{f_j}) \\in \\mathbb{R}^n \\times \\mathbb{R}^n$ sont respectivement les plongements (<i>embeddings</i>) de l'utilisateur $i$, $u_i$, et du film $j$, $f_j$. De plus, $b \\in \\mathbb{R}$ est la constante qui représente la moyenne. Enfin, $n \\in \\mathbb{N}$ est respectivement la dimension de l'espace latent des utilisateurs et des films (dans cette question, $n=32$).\n",
        "\n",
        "<br>\n",
        "\n",
        "***Pour répondre aux questions, vous devez remplacer les `?` par les valeurs adéquates.***"
      ]
    },
    {
      "cell_type": "markdown",
      "metadata": {
        "id": "BXC_qIhL8wyX"
      },
      "source": [
        "### 1.1. Extraire les attributs nécessaires pour entrainer le modèle (1 pt)\n",
        "\n",
        "On vous demande d'extraire des données les `titres de films`, les `identifiants utilisateurs`, les `votes`, et les `horodatages` (<i>timestamps</i>). Les données doivent être sous format chaine de caractères (`str`). Voici la [doc](https://www.tensorflow.org/datasets/catalog/movielens#movielens100k-ratings). <br><br>\n",
        "*À modifier si vous voulez inclure d'autres features pour les questions 3 et 4.*"
      ]
    },
    {
      "cell_type": "code",
      "execution_count": 30,
      "metadata": {
        "id": "ViGKneQPIq_t"
      },
      "outputs": [],
      "source": [
        "#votes = ratings.map(lambda x: {\"?\": x[\"?\"],\"?\": x[\"?\"],\"?\": x[\"?\"], \"?\": tf.strings.as_string(x[\"?\"])})\n",
        "votes = ratings.map(lambda x: {\"movie_title\": tf.strings.as_string(x[1]),\"user_id\": tf.strings.as_string(x[0]), \"user_rating\": x[2], \"timestamp\": x[3]})\n",
        "films = votes"
      ]
    },
    {
      "cell_type": "markdown",
      "metadata": {
        "id": "iLTYHO8EJ_5v"
      },
      "source": [
        "### 1.2. Statistiques sur les données de `MovieLens 100k`"
      ]
    },
    {
      "cell_type": "markdown",
      "metadata": {
        "id": "jFzhe1s5KEHz"
      },
      "source": [
        "#### 1.2.a Affichez le nombre d'utilisateurs uniques (1 pt)"
      ]
    },
    {
      "cell_type": "code",
      "execution_count": null,
      "metadata": {
        "colab": {
          "base_uri": "https://localhost:8080/"
        },
        "id": "05URFTTVJgQP",
        "outputId": "41baa5c8-5d0c-42e7-d4d0-7cd104de1e9c"
      },
      "outputs": [
        {
          "output_type": "execute_result",
          "data": {
            "text/plain": [
              "943"
            ]
          },
          "metadata": {},
          "execution_count": 7
        }
      ],
      "source": [
        "#Identifiant des utilisateurs\n",
        "id_utilisateurs = votes.map(lambda x: x[\"user_id\"]).batch(1000000)# On prend tous les utilisateurs d'un coup\n",
        "id_uniques      = np.unique(np.concatenate(list(id_utilisateurs)))\n",
        "nb_id_uniques   = id_uniques.shape[0]\n",
        "nb_id_uniques"
      ]
    },
    {
      "cell_type": "markdown",
      "metadata": {
        "id": "NFzgnvQ-KLj-"
      },
      "source": [
        "#### 1.2.b Affichez le nombre de films uniques (1 pt)"
      ]
    },
    {
      "cell_type": "code",
      "execution_count": null,
      "metadata": {
        "colab": {
          "base_uri": "https://localhost:8080/"
        },
        "collapsed": true,
        "id": "OAIp2eSkKLsg",
        "outputId": "7943c7be-3a1f-4e53-988e-4b585105058a"
      },
      "outputs": [
        {
          "output_type": "execute_result",
          "data": {
            "text/plain": [
              "1682"
            ]
          },
          "metadata": {},
          "execution_count": 8
        }
      ],
      "source": [
        "#Titres des films\n",
        "titres_films    = films.map(lambda x: x[\"movie_title\"]).batch(1000000)# On prend tous les films d'un coup\n",
        "films_unique    = np.unique(np.concatenate(list(titres_films)))\n",
        "nb_films_unique = films_unique.shape[0]\n",
        "nb_films_unique"
      ]
    },
    {
      "cell_type": "markdown",
      "metadata": {
        "id": "YqEdoGD6KL31"
      },
      "source": [
        "#### 1.2.c Affichez le nombre de votes et les fréquences de paires (utilisateurs, films) uniques. Constatez-vous des anomalies ? Si oui, quelles sont-elles ? (3 pts)"
      ]
    },
    {
      "cell_type": "code",
      "execution_count": null,
      "metadata": {
        "colab": {
          "base_uri": "https://localhost:8080/"
        },
        "id": "Cee_a332gHVP",
        "outputId": "01bafdbd-a7d6-494e-da8c-08ff2a3fe78e"
      },
      "outputs": [
        {
          "output_type": "stream",
          "name": "stdout",
          "text": [
            "The number of votes is 100000\n",
            "The number of unique pairs is 1586126\n",
            "Therefore, we can see that we have a very sparse dataset, with only 6.304669364224531% of possible values present.\n",
            "We either have to treat this sparsity somehow, or create embeddings to encapsulate only the present values.\n"
          ]
        }
      ],
      "source": [
        "## Number of votes\n",
        "number_of_votes = len(votes)\n",
        "print(\"The number of votes is {}\".format(number_of_votes))\n",
        "## Unique pairs\n",
        "unique_pairs = nb_id_uniques * nb_films_unique\n",
        "print(\"The number of unique pairs is {}\".format(unique_pairs))\n",
        "print(\"Therefore, we can see that we have a very sparse dataset, with only {}% of possible values present.\".format((number_of_votes/unique_pairs)*100))\n",
        "print(\"We either have to treat this sparsity somehow, or create embeddings to encapsulate only the present values.\")\n"
      ]
    },
    {
      "cell_type": "markdown",
      "metadata": {
        "id": "yD5AjtAfJhCB"
      },
      "source": [
        "### 1.3. Initialisation de la metrique RMSE de tfrs (1 pt)\n",
        "\n",
        "Soit $y\\in \\mathbb{R}^N$ un vecteur de valeur de votes issue de la base de données d'entrainement, et $\\hat{y} \\in \\mathbb{R}^N$ la prédiction de ces votes par notre modèle. Pour que notre modèle soit performant, nous aimerions bien que $\\hat{y}$ ait quasiment les mêmes valeurs que $y$. On cherche donc à minimiser la perte suivante, qui est la **MSE** (*Mean Square Error*) :\n",
        "\n",
        "<br>\n",
        "\n",
        "$$\\boxed{l(\\hat{y}, y) = ||\\hat{y}-y||_2^2 = \\cfrac{1}{N}\\underset{i=1}{\\overset{N}{\\sum }}|\\hat{y} - y|^2}.$$\n",
        "\n",
        "<br>\n",
        "\n",
        "Initialisez la tâche avec la perte adéquate en utilisant `tfrs.tasks.Ranking`, voici la [doc](https://www.tensorflow.org/recommenders/api_docs/python/tfrs/tasks/Ranking). Il faut donc utiliser `tf.keras.losses.MeanSquaredError()` comme **perte**, et `tf.keras.metrics.RootMeanSquaredError()` comme **métrique**."
      ]
    },
    {
      "cell_type": "code",
      "execution_count": 31,
      "metadata": {
        "id": "wk5le5DAJgUf"
      },
      "outputs": [],
      "source": [
        "task = tfrs.tasks.Ranking(loss = tf.keras.losses.MeanSquaredError(), metrics = [tf.keras.metrics.RootMeanSquaredError()])"
      ]
    },
    {
      "cell_type": "markdown",
      "metadata": {
        "id": "eAFp2Qq8O0-Q"
      },
      "source": [
        "### 1.4. Définition du modèle Two Towers\n"
      ]
    },
    {
      "cell_type": "markdown",
      "metadata": {
        "id": "mGrNtpwDQc5X"
      },
      "source": [
        "#### 1.4.1. On définit la dimension de l'espace latent (taille des plongements) comme étant égale à 32. Pourquoi ne pas avoir choisi une dimension plus élevée ? (1 pt)<br>\n",
        "\n",
        "<u>Réponse</u> :<br>\n",
        "Embedding words in a high dimension space requires more data to enforce density and significance of the representation, becoming hard to compute and converge in high dimensional spaces."
      ]
    },
    {
      "cell_type": "code",
      "execution_count": null,
      "metadata": {
        "id": "oCrYSMNDQ1qY"
      },
      "outputs": [],
      "source": [
        "embedding_dimension = 32"
      ]
    },
    {
      "cell_type": "markdown",
      "metadata": {
        "id": "GIrlqfBZQ2hd"
      },
      "source": [
        "#### 1.4.2. Définir les couches de plongement pour les utilisateurs et les films (1 pt)\n",
        "\n",
        "Pour initaliser les espaces de plongements, vous pouvez vous aider de la documentation de [tf.keras.layers.Embedding](https://www.tensorflow.org/api_docs/python/tf/keras/layers/Embedding).<br>\n",
        "\n",
        "Pour comprendre `tf.keras.layers.experimental.preprocessing.StringLookup`, aidez-vous de la [doc](https://www.tensorflow.org/api_docs/python/tf/keras/layers/StringLookup)."
      ]
    },
    {
      "cell_type": "code",
      "execution_count": null,
      "metadata": {
        "id": "DjVKI9T7Q2zf"
      },
      "outputs": [],
      "source": [
        "def initialisation_embeddings(embedding_dimension, id_uniques, films_unique):\n",
        "    user_model = tf.keras.Sequential([tf.keras.layers.experimental.preprocessing.StringLookup(vocabulary=id_uniques, mask_token=None),\n",
        "                                    tf.keras.layers.Embedding(len(id_uniques) + 1,# Le +1 représente la constante $c$\n",
        "                                                                embedding_dimension)], name=\"User_Embedding\")\n",
        "\n",
        "    movie_model = tf.keras.Sequential([tf.keras.layers.experimental.preprocessing.StringLookup(vocabulary=films_unique,mask_token=None),\n",
        "                                    tf.keras.layers.Embedding(len(films_unique) + 1, \n",
        "                                                                embedding_dimension)], name=\"Movie_Embedding\")  \n",
        "    return user_model, movie_model"
      ]
    },
    {
      "cell_type": "markdown",
      "metadata": {
        "id": "06nJZzs4Uivf"
      },
      "source": [
        "#### 1.4.3. Assemblez le modèle *Two Towers* (2 pts)"
      ]
    },
    {
      "cell_type": "code",
      "execution_count": null,
      "metadata": {
        "id": "8STmaQyWO0MX"
      },
      "outputs": [],
      "source": [
        "class MovieLensModel(tfrs.models.Model):\n",
        "\n",
        "  def __init__(self, embedding_dimension, id_uniques, films_unique, task):\n",
        "    super().__init__()\n",
        "    self.user_model, self.movie_model = initialisation_embeddings(embedding_dimension, id_uniques, films_unique)\n",
        "    \n",
        "    self.pred = tf.keras.layers.Dot(axes=1)\n",
        "    \n",
        "    self.task: tf.keras.layers.Layer = task\n",
        "\n",
        "  def call(self, features):\n",
        "    user_embedding, movie_embedding = self.user_model(features[\"user_id\"]), self.movie_model(features[\"movie_title\"]) ## Embeddings extraction\n",
        "    votes_predictions = self.pred([user_embedding, movie_embedding]) ## Scalar product of the two embeddings\n",
        "    return votes_predictions\n",
        "  \n",
        "  def compute_loss(self, features: Dict[Text, tf.Tensor], training=False) -> tf.Tensor:\n",
        "    \n",
        "    return self.task(labels=features[\"user_rating\"], predictions=self.call(features))"
      ]
    },
    {
      "cell_type": "markdown",
      "metadata": {
        "id": "6m1Y-ELtVo4L"
      },
      "source": [
        "### 1.5. Entrainement du modèle\n",
        "Dans cette partie, on entraine et test le modèle defini au dessus."
      ]
    },
    {
      "cell_type": "markdown",
      "metadata": {
        "id": "8wXJezITRCGk"
      },
      "source": [
        "#### Définir les bases de données d'entrainement et de validation (proportion $80\\%-20\\%$)."
      ]
    },
    {
      "cell_type": "code",
      "execution_count": 36,
      "metadata": {
        "id": "0ZI0GidMW9ju"
      },
      "outputs": [],
      "source": [
        "N          = len(votes)\n",
        "batch_size = 8192 #2^13\n",
        "prop       = 0.8\n",
        "train_len  = tf.cast(N * prop, dtype=tf.int64)\n",
        "valid_len   = tf.cast(N - train_len, dtype=tf.int64)\n",
        "\n",
        "\n",
        "# shuffled = votes.shuffle(N, seed=73, reshuffle_each_iteration=False)\n",
        "\n",
        "tf.random.set_seed(73)\n",
        "train = votes.take(train_len).shuffle(train_len, seed=73, reshuffle_each_iteration=False).batch(batch_size)\n",
        "valid = votes.skip(train_len).take(valid_len).shuffle(valid_len, seed=73, reshuffle_each_iteration=False).batch(batch_size)"
      ]
    },
    {
      "cell_type": "markdown",
      "metadata": {
        "id": "UsmpzsWYa_kU"
      },
      "source": [
        "#### 1.5.1. Initialisez le modèle, l'optimiseur et les modules de callback pour l'entrainement (2 pts)"
      ]
    },
    {
      "cell_type": "code",
      "execution_count": null,
      "metadata": {
        "colab": {
          "base_uri": "https://localhost:8080/"
        },
        "collapsed": true,
        "id": "86HwCAJoiJxh",
        "outputId": "3a8cd5fe-d58a-4de2-b987-af491112d7a2"
      },
      "outputs": [
        {
          "output_type": "execute_result",
          "data": {
            "text/plain": [
              "{'movie_title': <tf.Tensor: shape=(8192,), dtype=string, numpy=\n",
              " array([b'879.000000', b'882.000000', b'475.000000', ..., b'403.000000',\n",
              "        b'451.000000', b'518.000000'], dtype=object)>,\n",
              " 'timestamp': <tf.Tensor: shape=(8192,), dtype=float32, numpy=\n",
              " array([8.7956160e+08, 8.8818003e+08, 8.7564013e+08, ..., 8.8015149e+08,\n",
              "        8.9103603e+08, 8.8491648e+08], dtype=float32)>,\n",
              " 'user_id': <tf.Tensor: shape=(8192,), dtype=string, numpy=\n",
              " array([b'459.000000', b'206.000000', b'92.000000', ..., b'653.000000',\n",
              "        b'210.000000', b'345.000000'], dtype=object)>,\n",
              " 'user_rating': <tf.Tensor: shape=(8192,), dtype=float32, numpy=array([4., 1., 5., ..., 2., 3., 4.], dtype=float32)>}"
            ]
          },
          "metadata": {},
          "execution_count": 16
        }
      ],
      "source": [
        "# On tire un exemple pour construire le graphe du modèle\n",
        "feature = next(iter(train))\n",
        "feature"
      ]
    },
    {
      "cell_type": "code",
      "execution_count": null,
      "metadata": {
        "colab": {
          "base_uri": "https://localhost:8080/"
        },
        "collapsed": true,
        "id": "N0pn6SPTghMQ",
        "outputId": "401088b3-409d-461f-a65a-2ac8e798ccd8"
      },
      "outputs": [
        {
          "output_type": "stream",
          "name": "stdout",
          "text": [
            "Model: \"movie_lens_model\"\n",
            "_________________________________________________________________\n",
            " Layer (type)                Output Shape              Param #   \n",
            "=================================================================\n",
            " User_Embedding (Sequential)  (8192, 32)               30208     \n",
            "                                                                 \n",
            " Movie_Embedding (Sequential  (8192, 32)               53856     \n",
            " )                                                               \n",
            "                                                                 \n",
            " dot (Dot)                   multiple                  0         \n",
            "                                                                 \n",
            " ranking (Ranking)           multiple                  0 (unused)\n",
            "                                                                 \n",
            "=================================================================\n",
            "Total params: 84,064\n",
            "Trainable params: 84,064\n",
            "Non-trainable params: 0\n",
            "_________________________________________________________________\n"
          ]
        }
      ],
      "source": [
        "# On construit et affiche le modèle\n",
        "Model = MovieLensModel(embedding_dimension, id_uniques, films_unique, task)\n",
        "Model(feature)\n",
        "Model.summary() # comment expliquez-vous le nombre de paramètres des couches embeddings ? (32*x, where x is the number of unique values of each variable)"
      ]
    },
    {
      "cell_type": "markdown",
      "metadata": {
        "id": "0R2s3ownsuPh"
      },
      "source": [
        "On utilise comme optimiseur `Adam` (voir la [doc](https://www.tensorflow.org/api_docs/python/tf/keras/optimizers/Adam)) qui prend $0.01$ comme valeur pour son `learning_rate`. On vous demande aussi d'utiliser la stratégie *early stopping* pour entrainer votre modèle (voir les explications [ici](https://www.educative.io/edpresso/what-is-early-stopping)). Cette stratégie est implémentée par `Keras` comme un module *callback*, voir la [doc](https://keras.io/api/callbacks/). La **patience** doit être égale à $3$."
      ]
    },
    {
      "cell_type": "code",
      "execution_count": null,
      "metadata": {
        "id": "13XVbRv-gh-R"
      },
      "outputs": [],
      "source": [
        "# Création du dossier contenant les modèles entrainés\n",
        "#!mkdir Models/\n",
        "\n",
        "# Compiler le modèle en ajoutant l'optimiseur Adam\n",
        "Model.compile(optimizer=tf.keras.optimizers.Adam(learning_rate=0.01))\n",
        "\n",
        "my_callbacks = [\n",
        "    tf.keras.callbacks.EarlyStopping(patience=3),\n",
        "    tf.keras.callbacks.TensorBoard(log_dir='./logs'),\n",
        "]"
      ]
    },
    {
      "cell_type": "markdown",
      "metadata": {
        "id": "AaXK27Rla_nI"
      },
      "source": [
        "#### 1.5.2. Entrainez le modèle sur **15 epochs** et afficher les résultats ainsi que la meilleure **RMSE** sur l'ensemble de validation. Y a-t-il surapprentissage ? (2 pts)"
      ]
    },
    {
      "cell_type": "code",
      "execution_count": null,
      "metadata": {
        "colab": {
          "base_uri": "https://localhost:8080/"
        },
        "collapsed": true,
        "id": "hQiWAXEEjshI",
        "outputId": "ee75c7f1-5785-4b9c-e39c-a3fad7532296"
      },
      "outputs": [
        {
          "output_type": "stream",
          "name": "stdout",
          "text": [
            "Epoch 1/15\n",
            "10/10 [==============================] - 10s 516ms/step - root_mean_squared_error: 3.7021 - loss: 13.6748 - regularization_loss: 0.0000e+00 - total_loss: 13.6748 - val_root_mean_squared_error: 3.6652 - val_loss: 13.4904 - val_regularization_loss: 0.0000e+00 - val_total_loss: 13.4904\n",
            "Epoch 2/15\n",
            "10/10 [==============================] - 12s 980ms/step - root_mean_squared_error: 3.5504 - loss: 12.4440 - regularization_loss: 0.0000e+00 - total_loss: 12.4440 - val_root_mean_squared_error: 3.3131 - val_loss: 11.0178 - val_regularization_loss: 0.0000e+00 - val_total_loss: 11.0178\n",
            "Epoch 3/15\n",
            "10/10 [==============================] - 8s 526ms/step - root_mean_squared_error: 2.9051 - loss: 8.1185 - regularization_loss: 0.0000e+00 - total_loss: 8.1185 - val_root_mean_squared_error: 2.3013 - val_loss: 5.2993 - val_regularization_loss: 0.0000e+00 - val_total_loss: 5.2993\n",
            "Epoch 4/15\n",
            "10/10 [==============================] - 8s 515ms/step - root_mean_squared_error: 1.6890 - loss: 2.6791 - regularization_loss: 0.0000e+00 - total_loss: 2.6791 - val_root_mean_squared_error: 1.1571 - val_loss: 1.2983 - val_regularization_loss: 0.0000e+00 - val_total_loss: 1.2983\n",
            "Epoch 5/15\n",
            "10/10 [==============================] - 8s 517ms/step - root_mean_squared_error: 1.1422 - loss: 1.3105 - regularization_loss: 0.0000e+00 - total_loss: 1.3105 - val_root_mean_squared_error: 1.1496 - val_loss: 1.2904 - val_regularization_loss: 0.0000e+00 - val_total_loss: 1.2904\n",
            "Epoch 6/15\n",
            "10/10 [==============================] - 8s 524ms/step - root_mean_squared_error: 1.0245 - loss: 1.0271 - regularization_loss: 0.0000e+00 - total_loss: 1.0271 - val_root_mean_squared_error: 0.9722 - val_loss: 0.9467 - val_regularization_loss: 0.0000e+00 - val_total_loss: 0.9467\n",
            "Epoch 7/15\n",
            "10/10 [==============================] - 8s 506ms/step - root_mean_squared_error: 0.9413 - loss: 0.8831 - regularization_loss: 0.0000e+00 - total_loss: 0.8831 - val_root_mean_squared_error: 0.9804 - val_loss: 0.9672 - val_regularization_loss: 0.0000e+00 - val_total_loss: 0.9672\n",
            "Epoch 8/15\n",
            "10/10 [==============================] - 8s 509ms/step - root_mean_squared_error: 0.9192 - loss: 0.8389 - regularization_loss: 0.0000e+00 - total_loss: 0.8389 - val_root_mean_squared_error: 0.9513 - val_loss: 0.8954 - val_regularization_loss: 0.0000e+00 - val_total_loss: 0.8954\n",
            "Epoch 9/15\n",
            "10/10 [==============================] - 8s 524ms/step - root_mean_squared_error: 0.9021 - loss: 0.8110 - regularization_loss: 0.0000e+00 - total_loss: 0.8110 - val_root_mean_squared_error: 0.9492 - val_loss: 0.8886 - val_regularization_loss: 0.0000e+00 - val_total_loss: 0.8886\n",
            "Epoch 10/15\n",
            "10/10 [==============================] - 8s 517ms/step - root_mean_squared_error: 0.8936 - loss: 0.7950 - regularization_loss: 0.0000e+00 - total_loss: 0.7950 - val_root_mean_squared_error: 0.9434 - val_loss: 0.8843 - val_regularization_loss: 0.0000e+00 - val_total_loss: 0.8843\n",
            "Epoch 11/15\n",
            "10/10 [==============================] - 8s 514ms/step - root_mean_squared_error: 0.8862 - loss: 0.7818 - regularization_loss: 0.0000e+00 - total_loss: 0.7818 - val_root_mean_squared_error: 0.9415 - val_loss: 0.8812 - val_regularization_loss: 0.0000e+00 - val_total_loss: 0.8812\n",
            "Epoch 12/15\n",
            "10/10 [==============================] - 10s 723ms/step - root_mean_squared_error: 0.8787 - loss: 0.7684 - regularization_loss: 0.0000e+00 - total_loss: 0.7684 - val_root_mean_squared_error: 0.9392 - val_loss: 0.8750 - val_regularization_loss: 0.0000e+00 - val_total_loss: 0.8750\n",
            "Epoch 13/15\n",
            "10/10 [==============================] - 8s 512ms/step - root_mean_squared_error: 0.8712 - loss: 0.7551 - regularization_loss: 0.0000e+00 - total_loss: 0.7551 - val_root_mean_squared_error: 0.9371 - val_loss: 0.8721 - val_regularization_loss: 0.0000e+00 - val_total_loss: 0.8721\n",
            "Epoch 14/15\n",
            "10/10 [==============================] - 8s 517ms/step - root_mean_squared_error: 0.8632 - loss: 0.7410 - regularization_loss: 0.0000e+00 - total_loss: 0.7410 - val_root_mean_squared_error: 0.9352 - val_loss: 0.8702 - val_regularization_loss: 0.0000e+00 - val_total_loss: 0.8702\n",
            "Epoch 15/15\n",
            "10/10 [==============================] - 8s 510ms/step - root_mean_squared_error: 0.8549 - loss: 0.7265 - regularization_loss: 0.0000e+00 - total_loss: 0.7265 - val_root_mean_squared_error: 0.9336 - val_loss: 0.8679 - val_regularization_loss: 0.0000e+00 - val_total_loss: 0.8679\n"
          ]
        }
      ],
      "source": [
        "#Entrainement du modèle sur 15 epochs\n",
        "history_TwoTowers = Model.fit(train, epochs=15, validation_data=valid, callbacks=my_callbacks)"
      ]
    },
    {
      "cell_type": "code",
      "execution_count": null,
      "metadata": {
        "colab": {
          "base_uri": "https://localhost:8080/",
          "height": 350
        },
        "id": "574bL-vDkGiS",
        "outputId": "687e4707-8627-4318-b7c3-61cc13bfd348"
      },
      "outputs": [
        {
          "output_type": "display_data",
          "data": {
            "text/plain": [
              "<Figure size 432x288 with 1 Axes>"
            ],
            "image/png": "[encoded data removed]"
          },
          "metadata": {
            "needs_background": "light"
          }
        },
        {
          "output_type": "stream",
          "name": "stdout",
          "text": [
            "\n",
            "\n",
            "Best RMSE on validation : 0.9336\n"
          ]
        }
      ],
      "source": [
        "def plot_history(history, model_name=\"Two Towers\"):\n",
        "    # summarize history for loss\n",
        "    plt.plot(history.history['root_mean_squared_error'])\n",
        "    plt.plot(history.history['val_root_mean_squared_error'])\n",
        "    plt.title(model_name + ' Model RMSE')\n",
        "    plt.ylabel('RMSE')\n",
        "    plt.xlabel('epoch')\n",
        "    plt.legend(['train', 'validation'], loc='best')\n",
        "    plt.show()\n",
        "    print(\"\\n\\nBest RMSE on validation : {0:.4f}\".format(min(history.history['val_root_mean_squared_error'])))\n",
        "\n",
        "plot_history(history_TwoTowers, model_name=\"Two Towers\")"
      ]
    },
    {
      "cell_type": "markdown",
      "metadata": {
        "id": "4b5Zn9sw_LAw"
      },
      "source": [
        "L'overfitting n'a pas lieu de manière flagrande pendant les 15 premières epochs"
      ]
    },
    {
      "cell_type": "markdown",
      "metadata": {
        "id": "CwSZ9vowcBmX"
      },
      "source": [
        "## Question 2 (15 pts)\n",
        "\n",
        "Modifier le modèle Two Tower pour prendre en compte le biais utilisateur et item (film). La nouvelle formule de prédiction est donc :\n",
        "\n",
        "$$pred_{i,j}= \\sigma(b + biais_{u_i} + biais_{f_j} +E_{u_i}^TE_{f_j}) \\times (M_{vote} - m_{vote}) + m_{vote}$$\n",
        "\n",
        "<br>\n",
        "\n",
        "Où $biais_{u_i} \\in \\mathbb{R}$ est le biais associé à l'utilisateur $u_i$ et $biais_{f_j} \\in \\mathbb{R}$ le biais associé au film $f_j$. <br>\n",
        "\n",
        "$\\sigma: x \\mapsto \\cfrac{1}{1+e^{-x}}$ est la fonction sigmoid, elle est déjà implémentée par TensorFlow : `tf.math.sigmoid`.<br>\n",
        "\n",
        "Et, $M_{vote}, m_{vote}$ sont respectivement le maximum et le minimum des votes utilisateurs. Dans notre cas, $M_{vote}=5$ et $m_{vote}=1$.\n",
        "\n",
        "### Description du modèle Two Tower avec Biais\n",
        "\n",
        "Le modèle Keras correspondant est légèrement plus complexe. En plus des plongements d'utilisateurs et de films avec lesquelles nous avons déjà travaillé, le modèle ci-dessous approxime le biais utilisateur ($biais_{u_i}$) et le biais film ($biais_{f_j}$) en plongeant l'utilisateur et le film dans un espace unidimensionnel. Nous ajoutons ensuite les deux biais au produit scalaire représentant l'interaction utilisateur-film. La fonction d'activation sigmoïde normalise et ramène la prédiction à l'intervalle $[0,1]$, qui est ensuite ramenée à l'intervalle de vote original $[m_{vote}, M_{vote}]$. D'ailleurs, le dropout doit être appliqué aux sorties des couches `user_model` et `movie_model`.\n"
      ]
    },
    {
      "cell_type": "markdown",
      "metadata": {
        "id": "331CwGWJHdhs"
      },
      "source": [
        "### Définissez, initialisez, entrainez, affichez et interprétez les résultats du modèle Two Tower modifié. Y a-t-il surapprentissage ?\n",
        "\n",
        "Dans cette question, il vous ai conseillé d'utiliser Adam avec un `learning_rate`$=0.005$."
      ]
    },
    {
      "cell_type": "code",
      "execution_count": null,
      "metadata": {
        "id": "LRkKTjY_cgRZ"
      },
      "outputs": [],
      "source": [
        "#MovieLensModelWithBias Herite des attributs et des méthodes de MovieLensModel\n",
        "class MovieLensModelWithBias(MovieLensModel):\n",
        "\n",
        "  def __init__(self, embedding_dimension, id_uniques, films_unique, task, min_vote=1, max_vote=5, user_dropout=0.3, movie_dropout=0.6):\n",
        "    super().__init__(embedding_dimension, id_uniques, films_unique, task)\n",
        "\n",
        "    self.min_vote, self.max_vote = min_vote, max_vote\n",
        "\n",
        "    # Cette couche plonge dans un espace de dimension 1. Sa sortie est une constante qui représente le biais utilisateur.\n",
        "    self.user_bias = user_model = tf.keras.Sequential([tf.keras.layers.experimental.preprocessing.StringLookup(vocabulary=id_uniques, mask_token=None),\n",
        "                                    tf.keras.layers.Embedding(len(id_uniques) + 1, 1)], name=\"User_Bias\")\n",
        "\n",
        "    self.movie_bias = user_model = tf.keras.Sequential([tf.keras.layers.experimental.preprocessing.StringLookup(vocabulary=films_unique, mask_token=None),\n",
        "                                    tf.keras.layers.Embedding(len(films_unique) + 1, 1)], name=\"Movie_Bias\")\n",
        "        \n",
        "    self.user_dropout  = tf.keras.layers.Dropout(rate = user_dropout, name=\"User_Dropout\")\n",
        "    self.movie_dropout = tf.keras.layers.Dropout(rate = movie_dropout, name=\"Movie_Dropout\")\n",
        "\n",
        "\n",
        "  def call(self, features):\n",
        "    user_embedding, movie_embedding = self.user_model(features[\"user_id\"]), self.movie_model(features[\"movie_title\"]) ## User-item extraction\n",
        "    user_bias, movie_bias = self.user_bias(features[\"user_id\"]), self.movie_bias(features[\"movie_title\"]) ## Bias extraction\n",
        "    \n",
        "    user_embedding = self.user_dropout(user_embedding) ## User dropout\n",
        "    movie_embedding = self.movie_dropout(movie_embedding) ## Item dropout\n",
        "\n",
        "    user_item_product = self.pred([user_embedding,movie_embedding]) ## Dot product of the dropouts\n",
        "    \n",
        "    votes_predictions = tf.math.sigmoid(user_bias + movie_bias + user_item_product) * (self.max_vote - self.min_vote) + self.min_vote\n",
        "\n",
        "    return votes_predictions"
      ]
    },
    {
      "cell_type": "code",
      "execution_count": null,
      "metadata": {
        "colab": {
          "base_uri": "https://localhost:8080/"
        },
        "collapsed": true,
        "id": "83ADzoELml6x",
        "outputId": "ed478032-37a9-4353-c2a6-91276d052025"
      },
      "outputs": [
        {
          "output_type": "stream",
          "name": "stdout",
          "text": [
            "Model: \"movie_lens_model_with_bias\"\n",
            "_________________________________________________________________\n",
            " Layer (type)                Output Shape              Param #   \n",
            "=================================================================\n",
            " User_Embedding (Sequential)  (8192, 32)               30208     \n",
            "                                                                 \n",
            " Movie_Embedding (Sequential  (8192, 32)               53856     \n",
            " )                                                               \n",
            "                                                                 \n",
            " dot_1 (Dot)                 multiple                  0         \n",
            "                                                                 \n",
            " ranking (Ranking)           multiple                  0         \n",
            "                                                                 \n",
            " User_Bias (Sequential)      (8192, 1)                 944       \n",
            "                                                                 \n",
            " Movie_Bias (Sequential)     (8192, 1)                 1683      \n",
            "                                                                 \n",
            " User_Dropout (Dropout)      multiple                  0         \n",
            "                                                                 \n",
            " Movie_Dropout (Dropout)     multiple                  0         \n",
            "                                                                 \n",
            "=================================================================\n",
            "Total params: 86,691\n",
            "Trainable params: 86,691\n",
            "Non-trainable params: 0\n",
            "_________________________________________________________________\n"
          ]
        }
      ],
      "source": [
        "#Initialisez le modèle et afficher ses couches (summary)\n",
        "Model_Bias = MovieLensModelWithBias(embedding_dimension, id_uniques, films_unique, task, min_vote=1, max_vote=5, user_dropout=0.3, movie_dropout=0.6)\n",
        "Model_Bias(feature)\n",
        "Model_Bias.summary()"
      ]
    },
    {
      "cell_type": "code",
      "execution_count": null,
      "metadata": {
        "id": "DV9_n_jKm97A"
      },
      "outputs": [],
      "source": [
        "# Compilez le modèle en ajoutant l'optimiseur Adam\n",
        "# Création du dossier contenant les modèles entrainés\n",
        "#!mkdir Models/\n",
        "\n",
        "# Compiler le modèle en ajoutant l'optimiseur Adam\n",
        "Model_Bias.compile(optimizer=tf.keras.optimizers.Adam(learning_rate=0.005))\n",
        "\n",
        "my_callbacks = [\n",
        "    tf.keras.callbacks.EarlyStopping(patience=3),\n",
        "    tf.keras.callbacks.TensorBoard(log_dir='./logs'),\n",
        "]"
      ]
    },
    {
      "cell_type": "code",
      "execution_count": null,
      "metadata": {
        "colab": {
          "base_uri": "https://localhost:8080/"
        },
        "collapsed": true,
        "id": "slPoB57hnAUi",
        "outputId": "14635cef-34d3-4d18-e115-f1720d70d437"
      },
      "outputs": [
        {
          "output_type": "stream",
          "name": "stdout",
          "text": [
            "Epoch 1/15\n",
            "10/10 [==============================] - 9s 546ms/step - root_mean_squared_error: 1.2274 - loss: 1.4965 - regularization_loss: 0.0000e+00 - total_loss: 1.4965 - val_root_mean_squared_error: 1.1936 - val_loss: 1.3926 - val_regularization_loss: 0.0000e+00 - val_total_loss: 1.3926\n",
            "Epoch 2/15\n",
            "10/10 [==============================] - 10s 529ms/step - root_mean_squared_error: 1.1791 - loss: 1.3801 - regularization_loss: 0.0000e+00 - total_loss: 1.3801 - val_root_mean_squared_error: 1.1497 - val_loss: 1.2896 - val_regularization_loss: 0.0000e+00 - val_total_loss: 1.2896\n",
            "Epoch 3/15\n",
            "10/10 [==============================] - 8s 530ms/step - root_mean_squared_error: 1.1190 - loss: 1.2402 - regularization_loss: 0.0000e+00 - total_loss: 1.2402 - val_root_mean_squared_error: 1.0907 - val_loss: 1.1577 - val_regularization_loss: 0.0000e+00 - val_total_loss: 1.1577\n",
            "Epoch 4/15\n",
            "10/10 [==============================] - 8s 534ms/step - root_mean_squared_error: 1.0396 - loss: 1.0688 - regularization_loss: 0.0000e+00 - total_loss: 1.0688 - val_root_mean_squared_error: 1.0238 - val_loss: 1.0174 - val_regularization_loss: 0.0000e+00 - val_total_loss: 1.0174\n",
            "Epoch 5/15\n",
            "10/10 [==============================] - 8s 534ms/step - root_mean_squared_error: 0.9634 - loss: 0.9197 - regularization_loss: 0.0000e+00 - total_loss: 0.9197 - val_root_mean_squared_error: 0.9785 - val_loss: 0.9292 - val_regularization_loss: 0.0000e+00 - val_total_loss: 0.9292\n",
            "Epoch 6/15\n",
            "10/10 [==============================] - 8s 537ms/step - root_mean_squared_error: 0.9134 - loss: 0.8281 - regularization_loss: 0.0000e+00 - total_loss: 0.8281 - val_root_mean_squared_error: 0.9570 - val_loss: 0.8899 - val_regularization_loss: 0.0000e+00 - val_total_loss: 0.8899\n",
            "Epoch 7/15\n",
            "10/10 [==============================] - 8s 526ms/step - root_mean_squared_error: 0.8772 - loss: 0.7634 - regularization_loss: 0.0000e+00 - total_loss: 0.7634 - val_root_mean_squared_error: 0.9434 - val_loss: 0.8660 - val_regularization_loss: 0.0000e+00 - val_total_loss: 0.8660\n",
            "Epoch 8/15\n",
            "10/10 [==============================] - 8s 536ms/step - root_mean_squared_error: 0.8447 - loss: 0.7075 - regularization_loss: 0.0000e+00 - total_loss: 0.7075 - val_root_mean_squared_error: 0.9346 - val_loss: 0.8507 - val_regularization_loss: 0.0000e+00 - val_total_loss: 0.8507\n",
            "Epoch 9/15\n",
            "10/10 [==============================] - 9s 608ms/step - root_mean_squared_error: 0.8156 - loss: 0.6590 - regularization_loss: 0.0000e+00 - total_loss: 0.6590 - val_root_mean_squared_error: 0.9297 - val_loss: 0.8424 - val_regularization_loss: 0.0000e+00 - val_total_loss: 0.8424\n",
            "Epoch 10/15\n",
            "10/10 [==============================] - 8s 525ms/step - root_mean_squared_error: 0.7892 - loss: 0.6164 - regularization_loss: 0.0000e+00 - total_loss: 0.6164 - val_root_mean_squared_error: 0.9277 - val_loss: 0.8391 - val_regularization_loss: 0.0000e+00 - val_total_loss: 0.8391\n",
            "Epoch 11/15\n",
            "10/10 [==============================] - 9s 550ms/step - root_mean_squared_error: 0.7646 - loss: 0.5780 - regularization_loss: 0.0000e+00 - total_loss: 0.5780 - val_root_mean_squared_error: 0.9278 - val_loss: 0.8398 - val_regularization_loss: 0.0000e+00 - val_total_loss: 0.8398\n",
            "Epoch 12/15\n",
            "10/10 [==============================] - 8s 527ms/step - root_mean_squared_error: 0.7415 - loss: 0.5430 - regularization_loss: 0.0000e+00 - total_loss: 0.5430 - val_root_mean_squared_error: 0.9295 - val_loss: 0.8434 - val_regularization_loss: 0.0000e+00 - val_total_loss: 0.8434\n",
            "Epoch 13/15\n",
            "10/10 [==============================] - 8s 528ms/step - root_mean_squared_error: 0.7197 - loss: 0.5110 - regularization_loss: 0.0000e+00 - total_loss: 0.5110 - val_root_mean_squared_error: 0.9324 - val_loss: 0.8492 - val_regularization_loss: 0.0000e+00 - val_total_loss: 0.8492\n"
          ]
        }
      ],
      "source": [
        "#Entrainez le modèle\n",
        "history_TwoTowers_Model_Bias = Model_Bias.fit(train, epochs=15, validation_data=valid, callbacks=my_callbacks)"
      ]
    },
    {
      "cell_type": "code",
      "execution_count": null,
      "metadata": {
        "colab": {
          "base_uri": "https://localhost:8080/",
          "height": 350
        },
        "id": "K8jgK6TUnBvu",
        "outputId": "99921423-d5be-474e-9b3f-1a244c62e002"
      },
      "outputs": [
        {
          "output_type": "display_data",
          "data": {
            "text/plain": [
              "<Figure size 432x288 with 1 Axes>"
            ],
            "image/png": "[encoded data removed]"
          },
          "metadata": {
            "needs_background": "light"
          }
        },
        {
          "output_type": "stream",
          "name": "stdout",
          "text": [
            "\n",
            "\n",
            "Best RMSE on validation : 0.9277\n"
          ]
        }
      ],
      "source": [
        "#Affichez les résultats\n",
        "def plot_history(history, model_name=\"Two Towers\"):\n",
        "    # summarize history for loss\n",
        "    plt.plot(history.history['root_mean_squared_error'])\n",
        "    plt.plot(history.history['val_root_mean_squared_error'])\n",
        "    plt.title(model_name + ' Model RMSE')\n",
        "    plt.ylabel('RMSE')\n",
        "    plt.xlabel('epoch')\n",
        "    plt.legend(['train', 'validation'], loc='best')\n",
        "    plt.show()\n",
        "    print(\"\\n\\nBest RMSE on validation : {0:.4f}\".format(min(history.history['val_root_mean_squared_error'])))\n",
        "\n",
        "plot_history(history_TwoTowers_Model_Bias, model_name=\"Two Towers\")"
      ]
    },
    {
      "cell_type": "markdown",
      "metadata": {
        "id": "S4D0V1wgiaB6"
      },
      "source": [
        "#### Observations\n",
        "\n",
        "<u>Réponse</u> :<br>\n",
        "\n",
        "We can see that the RMSE of the training set is considerably lower. We got a RMSE of 0.7129 after 14 epochs using the new methods that includes the bias, while we got 0.8549 in the previous method. For the validation sets, we also got a better result, even though not as marked: 0.9253 for the bias method, and 0.9336 for the previous method. For the divergence between the RMSE of the train and test validations, we can identify that our model is efficient, but is overfitting. "
      ]
    },
    {
      "cell_type": "markdown",
      "metadata": {
        "id": "0p4rXQGoOQJp"
      },
      "source": [
        "## Question 3 (20 pts)\n",
        "Dans cette question, nous cherchons à améliorer le modèle Two Towers avec les biais de la question 2. <br> \n",
        "\n",
        "Voici quelques idées d'améliorations : "
      ]
    },
    {
      "cell_type": "markdown",
      "metadata": {
        "id": "JjXxt35mEAna"
      },
      "source": [
        "### Question 3.1 (10 pts)\n",
        "\n",
        "Améliorez les performances en changeant les hyperparamètres du modèle (<i>dropout, embedding_dim, learning rate, etc...</i>). Quelle est l'impact de ces hyperparamètres sur le surapprentissage (<i>overfitting</i>) ? **(10 pts)**"
      ]
    },
    {
      "cell_type": "code",
      "execution_count": null,
      "metadata": {
        "colab": {
          "base_uri": "https://localhost:8080/"
        },
        "id": "wgxvThAaEDdn",
        "outputId": "dea15c08-bb1d-41eb-a8b7-707033365cb0"
      },
      "outputs": [
        {
          "output_type": "stream",
          "name": "stdout",
          "text": [
            "The lowest RMSE found is 0.9228752851486206, with user dropout of 0.1 and movie dropout of 0.1\n"
          ]
        }
      ],
      "source": [
        "## Trying different dropouts\n",
        "def test_dropouts():\n",
        "  user_dropouts = [0.1, 0.3, 0.5, 0.7, 0.9]\n",
        "  movie_dropouts = [0.1, 0.3, 0.5, 0.7, 0.9]\n",
        "  min_rmse = float('inf')\n",
        "  best_user_dropout = 0\n",
        "  best_movie_dropout = 0\n",
        "\n",
        "  for i in user_dropouts:\n",
        "    for j in movie_dropouts:\n",
        "      test_model = MovieLensModelWithBias(embedding_dimension, id_uniques, films_unique, task, min_vote=1, max_vote=5, user_dropout=i, movie_dropout=j)\n",
        "      test_model.compile(optimizer=tf.keras.optimizers.Adam(learning_rate=0.005))\n",
        "      history_model = test_model.fit(train, epochs=15, validation_data=valid, callbacks=my_callbacks, verbose=0)\n",
        "      if (min(history_model.history['val_root_mean_squared_error'])) < min_rmse:\n",
        "        min_rmse = min(history_model.history['val_root_mean_squared_error'])\n",
        "        best_user_dropout = i\n",
        "        best_movie_dropout = j\n",
        "  \n",
        "  print(\"The lowest RMSE found is {}, with user dropout of {} and movie dropout of {}\".format(min_rmse, best_user_dropout, best_movie_dropout))\n",
        "  \n",
        "test_dropouts()"
      ]
    },
    {
      "cell_type": "code",
      "source": [
        "## Trying different embedding dimensions, using dropout 0.1\n",
        "def test_dims():\n",
        "  embedding_dims = [2,4,8,16,32,64,128,256]\n",
        "  min_rmse = float('inf')\n",
        "  best_dim = 0\n",
        "\n",
        "  for i in embedding_dims:\n",
        "    test_model = MovieLensModelWithBias(i, id_uniques, films_unique, task, min_vote=1, max_vote=5, user_dropout=0.1, movie_dropout=0.1)\n",
        "    test_model.compile(optimizer=tf.keras.optimizers.Adam(learning_rate=0.005))\n",
        "    history_model = test_model.fit(train, epochs=15, validation_data=valid, callbacks=my_callbacks, verbose=0)\n",
        "    if (min(history_model.history['val_root_mean_squared_error'])) < min_rmse:\n",
        "      min_rmse = min(history_model.history['val_root_mean_squared_error'])\n",
        "      best_dim = i\n",
        "  \n",
        "  print(\"The lowest RMSE found is {}, with embedding dimension of {}\".format(min_rmse, best_dim))\n",
        "  \n",
        "test_dims()"
      ],
      "metadata": {
        "colab": {
          "base_uri": "https://localhost:8080/"
        },
        "id": "yM-BbEyDgvgt",
        "outputId": "0d2790ef-e7a8-47ff-b3bb-b718a35a8153"
      },
      "execution_count": null,
      "outputs": [
        {
          "output_type": "stream",
          "name": "stdout",
          "text": [
            "The lowest RMSE found is 0.9246339201927185, with embedding dimension of 128\n"
          ]
        }
      ]
    },
    {
      "cell_type": "code",
      "source": [
        "## Trying different learning rates, using dropout 0.1 and embedding dimension 32\n",
        "def test_learning_rates():\n",
        "  learning_rates = [0.1, 0.05, 0.01, 0.005, 0.001, 0.0005, 0.0001]\n",
        "  min_rmse = float('inf')\n",
        "  best_rate = 0\n",
        "\n",
        "  for i in learning_rates:\n",
        "    test_model = MovieLensModelWithBias(embedding_dimension, id_uniques, films_unique, task, min_vote=1, max_vote=5, user_dropout=0.1, movie_dropout=0.1)\n",
        "    test_model.compile(optimizer=tf.keras.optimizers.Adam(learning_rate=i))\n",
        "    history_model = test_model.fit(train, epochs=15, validation_data=valid, callbacks=my_callbacks, verbose=0)\n",
        "    if (min(history_model.history['val_root_mean_squared_error'])) < min_rmse:\n",
        "      min_rmse = min(history_model.history['val_root_mean_squared_error'])\n",
        "      best_rate = i\n",
        "  \n",
        "  print(\"The lowest RMSE found is {}, with learning rate of {}\".format(min_rmse, best_rate))\n",
        "  \n",
        "test_learning_rates()"
      ],
      "metadata": {
        "colab": {
          "base_uri": "https://localhost:8080/"
        },
        "id": "iMuB4h9q9MqU",
        "outputId": "013c0e1f-0cdd-46db-d824-6a06e5e7bfc4"
      },
      "execution_count": null,
      "outputs": [
        {
          "output_type": "stream",
          "name": "stdout",
          "text": [
            "The lowest RMSE found is 0.9266558885574341, with learning rate of 0.005\n"
          ]
        }
      ]
    },
    {
      "cell_type": "markdown",
      "metadata": {
        "id": "KAH7M7HTEF34"
      },
      "source": [
        "### Question 3.2 (10 pts)\n",
        "\n",
        "Commencez l'entrainement du modèle avec des plongements pré-entrainés (pretrained embeddings) obtenus aux questions précédentes. **(10 pts)**"
      ]
    },
    {
      "cell_type": "code",
      "source": [
        "## Based on the code given in https://www.tensorflow.org/recommenders/examples/featurization\n",
        "## And in https://www.tensorflow.org/recommenders/examples/context_features \n",
        "\n",
        "## Getting datasets of movie titles, user ids and timestamps\n",
        "ratings = votes.map(lambda x: {\n",
        "    \"movie_title\": x[\"movie_title\"],\n",
        "    \"user_id\": x[\"user_id\"],\n",
        "    \"timestamp\": x[\"timestamp\"],\n",
        "})\n",
        "movies = films.map(lambda x: x[\"movie_title\"])\n",
        "\n",
        "timestamps = np.concatenate(list(ratings.map(lambda x: x[\"timestamp\"]).batch(100)))\n",
        "\n",
        "max_timestamp = timestamps.max()\n",
        "min_timestamp = timestamps.min()\n",
        "\n",
        "timestamp_buckets = np.linspace(\n",
        "    min_timestamp, max_timestamp, num=1000,\n",
        ")\n",
        "\n",
        "unique_movie_titles = np.unique(np.concatenate(list(movies.batch(1000))))\n",
        "unique_user_ids = np.unique(np.concatenate(list(ratings.batch(1_000).map(\n",
        "    lambda x: x[\"user_id\"]))))"
      ],
      "metadata": {
        "id": "s4rD5RPpIQw3"
      },
      "execution_count": 19,
      "outputs": []
    },
    {
      "cell_type": "code",
      "source": [
        "## Builds a user model class, containing the embeddings of unique user ids, and \n",
        "## Embeddings of timestamps\n",
        "class UserModel(tf.keras.Model):\n",
        "\n",
        "  def __init__(self, use_timestamps):\n",
        "    super().__init__()\n",
        "\n",
        "    self._use_timestamps = use_timestamps\n",
        "\n",
        "    self.user_embedding = tf.keras.Sequential([\n",
        "        tf.keras.layers.StringLookup(\n",
        "            vocabulary=unique_user_ids, mask_token=None),\n",
        "        tf.keras.layers.Embedding(len(unique_user_ids) + 1, 32),\n",
        "    ])\n",
        "\n",
        "    if use_timestamps:\n",
        "      self.timestamp_embedding = tf.keras.Sequential([\n",
        "          tf.keras.layers.Discretization(timestamp_buckets.tolist()),\n",
        "          tf.keras.layers.Embedding(len(timestamp_buckets) + 1, 32),\n",
        "      ])\n",
        "      self.normalized_timestamp = tf.keras.layers.Normalization(\n",
        "          axis=None\n",
        "      )\n",
        "\n",
        "      self.normalized_timestamp.adapt(timestamps)\n",
        "\n",
        "  def call(self, inputs):\n",
        "    if not self._use_timestamps:\n",
        "      return self.user_embedding(inputs[\"user_id\"])\n",
        "\n",
        "    return tf.concat([\n",
        "        self.user_embedding(inputs[\"user_id\"]),\n",
        "        self.timestamp_embedding(inputs[\"timestamp\"]),\n",
        "        tf.reshape(self.normalized_timestamp(inputs[\"timestamp\"]), (-1, 1)),\n",
        "    ], axis=1)"
      ],
      "metadata": {
        "id": "tIY6WLeoKalR"
      },
      "execution_count": 20,
      "outputs": []
    },
    {
      "cell_type": "code",
      "source": [
        "## Builds a movie model class, containing the embeddings of unique movie titles\n",
        "class MovieModel(tf.keras.Model):\n",
        "\n",
        "  def __init__(self):\n",
        "    super().__init__()\n",
        "\n",
        "    max_tokens = 10_000\n",
        "\n",
        "    self.title_embedding = tf.keras.Sequential([\n",
        "      tf.keras.layers.StringLookup(\n",
        "          vocabulary=unique_movie_titles, mask_token=None),\n",
        "      tf.keras.layers.Embedding(len(unique_movie_titles) + 1, 32)\n",
        "    ])\n",
        "\n",
        "    self.title_vectorizer = tf.keras.layers.TextVectorization(\n",
        "        max_tokens=max_tokens)\n",
        "\n",
        "    self.title_text_embedding = tf.keras.Sequential([\n",
        "      self.title_vectorizer,\n",
        "      tf.keras.layers.Embedding(max_tokens, 32, mask_zero=True),\n",
        "      tf.keras.layers.GlobalAveragePooling1D(),\n",
        "    ])\n",
        "\n",
        "    self.title_vectorizer.adapt(movies)\n",
        "\n",
        "  def call(self, titles):\n",
        "    return tf.concat([\n",
        "        self.title_embedding(titles),\n",
        "        self.title_text_embedding(titles),\n",
        "    ], axis=1)"
      ],
      "metadata": {
        "id": "clyvFuFoKidu"
      },
      "execution_count": 21,
      "outputs": []
    },
    {
      "cell_type": "code",
      "source": [
        "## Creates a unique model, mixing the two previous, and using the TP's given task as metrics\n",
        "class MovielensModel(tfrs.models.Model):\n",
        "\n",
        "  def __init__(self, use_timestamps):\n",
        "    super().__init__()\n",
        "    self.query_model = tf.keras.Sequential([\n",
        "      UserModel(use_timestamps),\n",
        "      tf.keras.layers.Dense(32)\n",
        "    ])\n",
        "    self.candidate_model = tf.keras.Sequential([\n",
        "      MovieModel(),\n",
        "      tf.keras.layers.Dense(32)\n",
        "    ])\n",
        "    self.task = task\n",
        "\n",
        "  def compute_loss(self, features, training=False):\n",
        "    # We only pass the user id and timestamp features into the query model. This\n",
        "    # is to ensure that the training inputs would have the same keys as the\n",
        "    # query inputs. Otherwise the discrepancy in input structure would cause an\n",
        "    # error when loading the query model after saving it.\n",
        "    query_embeddings = self.query_model({\n",
        "        \"user_id\": features[\"user_id\"],\n",
        "        \"timestamp\": features[\"timestamp\"],\n",
        "    })\n",
        "    movie_embeddings = self.candidate_model(features[\"movie_title\"])\n",
        "\n",
        "    return self.task(query_embeddings, movie_embeddings)"
      ],
      "metadata": {
        "id": "FN-ZTkQQKlPf"
      },
      "execution_count": 22,
      "outputs": []
    },
    {
      "cell_type": "code",
      "source": [
        "## Trains the network, using the pre-trained embeddings, without timestamps\n",
        "\n",
        "my_callbacks = [\n",
        "    tf.keras.callbacks.EarlyStopping(patience=3),\n",
        "    tf.keras.callbacks.TensorBoard(log_dir='./logs'),\n",
        "]\n",
        "\n",
        "model = MovielensModel(use_timestamps=False)\n",
        "model.compile(optimizer=tf.keras.optimizers.Adagrad(0.1))\n",
        "\n",
        "history = model.fit(train, epochs=15, validation_data=valid, callbacks=my_callbacks)"
      ],
      "metadata": {
        "colab": {
          "base_uri": "https://localhost:8080/"
        },
        "id": "6nreuEX6Kobh",
        "outputId": "5ee28343-ea91-426a-ebf3-806e742a5d6b"
      },
      "execution_count": 37,
      "outputs": [
        {
          "output_type": "stream",
          "name": "stdout",
          "text": [
            "Epoch 1/15\n",
            "WARNING:tensorflow:Layers in a Sequential model should only have a single input tensor. Received: inputs={'user_id': <tf.Tensor 'IteratorGetNext:2' shape=(None,) dtype=string>, 'timestamp': <tf.Tensor 'IteratorGetNext:1' shape=(None,) dtype=float32>}. Consider rewriting this model with the Functional API.\n",
            "WARNING:tensorflow:Layers in a Sequential model should only have a single input tensor. Received: inputs={'user_id': <tf.Tensor 'IteratorGetNext:2' shape=(None,) dtype=string>, 'timestamp': <tf.Tensor 'IteratorGetNext:1' shape=(None,) dtype=float32>}. Consider rewriting this model with the Functional API.\n",
            " 9/10 [==========================>...] - ETA: 0s - root_mean_squared_error: 0.0437 - loss: 0.0019 - regularization_loss: 0.0000e+00 - total_loss: 0.0019WARNING:tensorflow:Layers in a Sequential model should only have a single input tensor. Received: inputs={'user_id': <tf.Tensor 'IteratorGetNext:2' shape=(None,) dtype=string>, 'timestamp': <tf.Tensor 'IteratorGetNext:1' shape=(None,) dtype=float32>}. Consider rewriting this model with the Functional API.\n",
            "10/10 [==============================] - 7s 391ms/step - root_mean_squared_error: 0.0437 - loss: 0.0019 - regularization_loss: 0.0000e+00 - total_loss: 0.0019 - val_root_mean_squared_error: 0.0437 - val_loss: 0.0019 - val_regularization_loss: 0.0000e+00 - val_total_loss: 0.0019\n",
            "Epoch 2/15\n",
            "10/10 [==============================] - 6s 374ms/step - root_mean_squared_error: 0.0436 - loss: 0.0019 - regularization_loss: 0.0000e+00 - total_loss: 0.0019 - val_root_mean_squared_error: 0.0436 - val_loss: 0.0019 - val_regularization_loss: 0.0000e+00 - val_total_loss: 0.0019\n",
            "Epoch 3/15\n",
            "10/10 [==============================] - 6s 371ms/step - root_mean_squared_error: 0.0436 - loss: 0.0019 - regularization_loss: 0.0000e+00 - total_loss: 0.0019 - val_root_mean_squared_error: 0.0436 - val_loss: 0.0019 - val_regularization_loss: 0.0000e+00 - val_total_loss: 0.0019\n",
            "Epoch 4/15\n",
            "10/10 [==============================] - 6s 371ms/step - root_mean_squared_error: 0.0435 - loss: 0.0019 - regularization_loss: 0.0000e+00 - total_loss: 0.0019 - val_root_mean_squared_error: 0.0436 - val_loss: 0.0019 - val_regularization_loss: 0.0000e+00 - val_total_loss: 0.0019\n",
            "Epoch 5/15\n",
            "10/10 [==============================] - 6s 376ms/step - root_mean_squared_error: 0.0435 - loss: 0.0019 - regularization_loss: 0.0000e+00 - total_loss: 0.0019 - val_root_mean_squared_error: 0.0435 - val_loss: 0.0019 - val_regularization_loss: 0.0000e+00 - val_total_loss: 0.0019\n",
            "Epoch 6/15\n",
            "10/10 [==============================] - 6s 378ms/step - root_mean_squared_error: 0.0434 - loss: 0.0019 - regularization_loss: 0.0000e+00 - total_loss: 0.0019 - val_root_mean_squared_error: 0.0435 - val_loss: 0.0019 - val_regularization_loss: 0.0000e+00 - val_total_loss: 0.0019\n",
            "Epoch 7/15\n",
            "10/10 [==============================] - 6s 377ms/step - root_mean_squared_error: 0.0434 - loss: 0.0019 - regularization_loss: 0.0000e+00 - total_loss: 0.0019 - val_root_mean_squared_error: 0.0434 - val_loss: 0.0019 - val_regularization_loss: 0.0000e+00 - val_total_loss: 0.0019\n",
            "Epoch 8/15\n",
            "10/10 [==============================] - 6s 381ms/step - root_mean_squared_error: 0.0434 - loss: 0.0019 - regularization_loss: 0.0000e+00 - total_loss: 0.0019 - val_root_mean_squared_error: 0.0434 - val_loss: 0.0019 - val_regularization_loss: 0.0000e+00 - val_total_loss: 0.0019\n",
            "Epoch 9/15\n",
            "10/10 [==============================] - 6s 378ms/step - root_mean_squared_error: 0.0433 - loss: 0.0019 - regularization_loss: 0.0000e+00 - total_loss: 0.0019 - val_root_mean_squared_error: 0.0434 - val_loss: 0.0019 - val_regularization_loss: 0.0000e+00 - val_total_loss: 0.0019\n",
            "Epoch 10/15\n",
            "10/10 [==============================] - 6s 377ms/step - root_mean_squared_error: 0.0433 - loss: 0.0019 - regularization_loss: 0.0000e+00 - total_loss: 0.0019 - val_root_mean_squared_error: 0.0433 - val_loss: 0.0019 - val_regularization_loss: 0.0000e+00 - val_total_loss: 0.0019\n",
            "Epoch 11/15\n",
            "10/10 [==============================] - 6s 380ms/step - root_mean_squared_error: 0.0432 - loss: 0.0019 - regularization_loss: 0.0000e+00 - total_loss: 0.0019 - val_root_mean_squared_error: 0.0433 - val_loss: 0.0019 - val_regularization_loss: 0.0000e+00 - val_total_loss: 0.0019\n",
            "Epoch 12/15\n",
            "10/10 [==============================] - 6s 376ms/step - root_mean_squared_error: 0.0432 - loss: 0.0019 - regularization_loss: 0.0000e+00 - total_loss: 0.0019 - val_root_mean_squared_error: 0.0433 - val_loss: 0.0019 - val_regularization_loss: 0.0000e+00 - val_total_loss: 0.0019\n",
            "Epoch 13/15\n",
            "10/10 [==============================] - 6s 396ms/step - root_mean_squared_error: 0.0432 - loss: 0.0019 - regularization_loss: 0.0000e+00 - total_loss: 0.0019 - val_root_mean_squared_error: 0.0432 - val_loss: 0.0019 - val_regularization_loss: 0.0000e+00 - val_total_loss: 0.0019\n",
            "Epoch 14/15\n",
            "10/10 [==============================] - 6s 372ms/step - root_mean_squared_error: 0.0431 - loss: 0.0019 - regularization_loss: 0.0000e+00 - total_loss: 0.0019 - val_root_mean_squared_error: 0.0432 - val_loss: 0.0019 - val_regularization_loss: 0.0000e+00 - val_total_loss: 0.0019\n",
            "Epoch 15/15\n",
            "10/10 [==============================] - 6s 366ms/step - root_mean_squared_error: 0.0431 - loss: 0.0019 - regularization_loss: 0.0000e+00 - total_loss: 0.0019 - val_root_mean_squared_error: 0.0432 - val_loss: 0.0019 - val_regularization_loss: 0.0000e+00 - val_total_loss: 0.0019\n"
          ]
        }
      ]
    },
    {
      "cell_type": "markdown",
      "metadata": {
        "id": "8-OnVMmiJ7to"
      },
      "source": [
        "### Bonus (10 pts)\n",
        "\n",
        "Prenez en compte les `timestamps`, ou développez d'autres idées que vous détaillerez."
      ]
    },
    {
      "cell_type": "code",
      "source": [
        "## Running the previous model, now considering the timestamps:\n",
        "model = MovielensModel(use_timestamps=True)\n",
        "model.compile(optimizer=tf.keras.optimizers.Adagrad(0.1))\n",
        "\n",
        "history = model.fit(train, epochs=15, validation_data=valid, callbacks=my_callbacks)"
      ],
      "metadata": {
        "id": "Gvi7dwce9AQQ",
        "colab": {
          "base_uri": "https://localhost:8080/"
        },
        "outputId": "52989910-5815-4e74-d1c4-4744b957b151"
      },
      "execution_count": 38,
      "outputs": [
        {
          "output_type": "stream",
          "name": "stdout",
          "text": [
            "Epoch 1/15\n",
            "WARNING:tensorflow:Layers in a Sequential model should only have a single input tensor. Received: inputs={'user_id': <tf.Tensor 'IteratorGetNext:2' shape=(None,) dtype=string>, 'timestamp': <tf.Tensor 'IteratorGetNext:1' shape=(None,) dtype=float32>}. Consider rewriting this model with the Functional API.\n",
            "WARNING:tensorflow:Layers in a Sequential model should only have a single input tensor. Received: inputs={'user_id': <tf.Tensor 'IteratorGetNext:2' shape=(None,) dtype=string>, 'timestamp': <tf.Tensor 'IteratorGetNext:1' shape=(None,) dtype=float32>}. Consider rewriting this model with the Functional API.\n",
            " 9/10 [==========================>...] - ETA: 0s - root_mean_squared_error: 0.1333 - loss: 0.0178 - regularization_loss: 0.0000e+00 - total_loss: 0.0178WARNING:tensorflow:Layers in a Sequential model should only have a single input tensor. Received: inputs={'user_id': <tf.Tensor 'IteratorGetNext:2' shape=(None,) dtype=string>, 'timestamp': <tf.Tensor 'IteratorGetNext:1' shape=(None,) dtype=float32>}. Consider rewriting this model with the Functional API.\n",
            "10/10 [==============================] - 7s 396ms/step - root_mean_squared_error: 0.1324 - loss: 0.0172 - regularization_loss: 0.0000e+00 - total_loss: 0.0172 - val_root_mean_squared_error: 0.1213 - val_loss: 0.0146 - val_regularization_loss: 0.0000e+00 - val_total_loss: 0.0146\n",
            "Epoch 2/15\n",
            "10/10 [==============================] - 6s 385ms/step - root_mean_squared_error: 0.1119 - loss: 0.0123 - regularization_loss: 0.0000e+00 - total_loss: 0.0123 - val_root_mean_squared_error: 0.1031 - val_loss: 0.0106 - val_regularization_loss: 0.0000e+00 - val_total_loss: 0.0106\n",
            "Epoch 3/15\n",
            "10/10 [==============================] - 6s 392ms/step - root_mean_squared_error: 0.0957 - loss: 0.0090 - regularization_loss: 0.0000e+00 - total_loss: 0.0090 - val_root_mean_squared_error: 0.0888 - val_loss: 0.0078 - val_regularization_loss: 0.0000e+00 - val_total_loss: 0.0078\n",
            "Epoch 4/15\n",
            "10/10 [==============================] - 6s 384ms/step - root_mean_squared_error: 0.0830 - loss: 0.0068 - regularization_loss: 0.0000e+00 - total_loss: 0.0068 - val_root_mean_squared_error: 0.0777 - val_loss: 0.0060 - val_regularization_loss: 0.0000e+00 - val_total_loss: 0.0060\n",
            "Epoch 5/15\n",
            "10/10 [==============================] - 6s 371ms/step - root_mean_squared_error: 0.0732 - loss: 0.0053 - regularization_loss: 0.0000e+00 - total_loss: 0.0053 - val_root_mean_squared_error: 0.0692 - val_loss: 0.0048 - val_regularization_loss: 0.0000e+00 - val_total_loss: 0.0048\n",
            "Epoch 6/15\n",
            "10/10 [==============================] - 6s 379ms/step - root_mean_squared_error: 0.0658 - loss: 0.0043 - regularization_loss: 0.0000e+00 - total_loss: 0.0043 - val_root_mean_squared_error: 0.0628 - val_loss: 0.0039 - val_regularization_loss: 0.0000e+00 - val_total_loss: 0.0039\n",
            "Epoch 7/15\n",
            "10/10 [==============================] - 6s 380ms/step - root_mean_squared_error: 0.0602 - loss: 0.0036 - regularization_loss: 0.0000e+00 - total_loss: 0.0036 - val_root_mean_squared_error: 0.0581 - val_loss: 0.0034 - val_regularization_loss: 0.0000e+00 - val_total_loss: 0.0034\n",
            "Epoch 8/15\n",
            "10/10 [==============================] - 6s 406ms/step - root_mean_squared_error: 0.0561 - loss: 0.0031 - regularization_loss: 0.0000e+00 - total_loss: 0.0031 - val_root_mean_squared_error: 0.0546 - val_loss: 0.0030 - val_regularization_loss: 0.0000e+00 - val_total_loss: 0.0030\n",
            "Epoch 9/15\n",
            "10/10 [==============================] - 6s 393ms/step - root_mean_squared_error: 0.0532 - loss: 0.0028 - regularization_loss: 0.0000e+00 - total_loss: 0.0028 - val_root_mean_squared_error: 0.0522 - val_loss: 0.0027 - val_regularization_loss: 0.0000e+00 - val_total_loss: 0.0027\n",
            "Epoch 10/15\n",
            "10/10 [==============================] - 6s 397ms/step - root_mean_squared_error: 0.0511 - loss: 0.0026 - regularization_loss: 0.0000e+00 - total_loss: 0.0026 - val_root_mean_squared_error: 0.0504 - val_loss: 0.0025 - val_regularization_loss: 0.0000e+00 - val_total_loss: 0.0025\n",
            "Epoch 11/15\n",
            "10/10 [==============================] - 6s 402ms/step - root_mean_squared_error: 0.0496 - loss: 0.0025 - regularization_loss: 0.0000e+00 - total_loss: 0.0025 - val_root_mean_squared_error: 0.0492 - val_loss: 0.0024 - val_regularization_loss: 0.0000e+00 - val_total_loss: 0.0024\n",
            "Epoch 12/15\n",
            "10/10 [==============================] - 6s 403ms/step - root_mean_squared_error: 0.0486 - loss: 0.0024 - regularization_loss: 0.0000e+00 - total_loss: 0.0024 - val_root_mean_squared_error: 0.0483 - val_loss: 0.0023 - val_regularization_loss: 0.0000e+00 - val_total_loss: 0.0023\n",
            "Epoch 13/15\n",
            "10/10 [==============================] - 6s 378ms/step - root_mean_squared_error: 0.0479 - loss: 0.0023 - regularization_loss: 0.0000e+00 - total_loss: 0.0023 - val_root_mean_squared_error: 0.0477 - val_loss: 0.0023 - val_regularization_loss: 0.0000e+00 - val_total_loss: 0.0023\n",
            "Epoch 14/15\n",
            "10/10 [==============================] - 6s 386ms/step - root_mean_squared_error: 0.0474 - loss: 0.0022 - regularization_loss: 0.0000e+00 - total_loss: 0.0022 - val_root_mean_squared_error: 0.0473 - val_loss: 0.0022 - val_regularization_loss: 0.0000e+00 - val_total_loss: 0.0022\n",
            "Epoch 15/15\n",
            "10/10 [==============================] - 6s 383ms/step - root_mean_squared_error: 0.0470 - loss: 0.0022 - regularization_loss: 0.0000e+00 - total_loss: 0.0022 - val_root_mean_squared_error: 0.0470 - val_loss: 0.0022 - val_regularization_loss: 0.0000e+00 - val_total_loss: 0.0022\n"
          ]
        }
      ]
    },
    {
      "cell_type": "markdown",
      "metadata": {
        "id": "IFtv1UQ_7f1d"
      },
      "source": [
        "## Question 4 (50 points)\n",
        "\n",
        "Maintenant que vous vous êtes familiarisés avec les librairies de `Tensorflow`, attaquons-nous à l'état de l'art. En utilisant des mots-clés comme `Deep Learning`, `Recommender Systems`, et `MovieLens`, faites une brève revue de l'état de l'art. Il est impératif que vous <b>citiez vos [sources](https://ulyngs.github.io/oxforddown/cites-and-refs.html)</b>.\n",
        "\n",
        "Ensuite, inspirez-vous de vos recherches pour proposer une approche plus performante que celle vue au-dessus. Pour cette question, il est recommandé de fournir un rapport séparé pour votre état de l'art et l'explication de votre démarche en format PDF. Mais, si vous ne souhaitez pas rédiger de rapport, vous pouvez rédiger dans les cellules textes ci-dessous.\n",
        "\n",
        "\n",
        "<br>\n",
        "\n",
        "Cette question vous laisse beaucoup de liberté dans vos réponses, vous pouvez utiliser n'importe quelle bibliothèque Python contrairement aux autres questions. Néanmoins, vous êtes quand même **soumis à des contraintes** :\n",
        "- Vous devez utiliser uniquement les données `MovieLens 100k`\n",
        "- **Si** vous **n**'avez **pas** besoin de features supplémentaires de `Movielens 100k` que celle extraite dans la **question 1.1**, utilisez l'ensemble d'entrainement (`train`) et de validation (`valid`) créée à la question 1.5\n",
        "- Votre modèle doit se baser sur des réseaux de neurones\n",
        "- Votre modèle doit être en tensorflow\n",
        "- Vous **ne** pouvez **pas** **entrainer** vos modèles sur les données de **validation** \n",
        "- Citez obligatoirement vos sources !\n",
        "\n",
        "\n",
        "<br>\n",
        "\n",
        "Une approche possible qu'on vous propose est de **réimplémenter** la méthode décrite dans le papier [Scalable deep learning-based recommendation systems](https://www.sciencedirect.com/science/article/pii/S2405959518302029) de H. Lee et al.<br>\n",
        "\n",
        "Pour cela il faut :\n",
        "1. Créer la matrice utilisateur-item\n",
        "2. Implémenter leur preprocessing sur la matrice utilisateur-item\n",
        "3. Implémenter le modèle décrit pour `MovieLens 100k`\n",
        "4. Entrainer le modèle\n",
        "5. Comparer les résultats obtenus en calculant la RMSE sur l'ensemble de validation par rapport à ceux obtenus par les méthodes précédentes\n",
        "\n",
        "<br><br>\n",
        "\n",
        "\n",
        "<big><b><center>Les 3 groupes ayant les meilleurs RMSE sur l'ensemble de validation auront 10 points de bonus.</center></b></big>\n",
        "\n",
        "<br>\n",
        "<br>\n",
        "<br>\n",
        "\n",
        "\n",
        "**Qualités attendues du travail**, vous serez noté selon :\n",
        "- L'originalité de votre démarche\n",
        "- La cohérence de votre démarche avec l'état de l'art rédigé\n",
        "- Les résultats empiriques (**RMSE**) sur l'ensemble de validation, notamment est-ce qu'elle performe mieux que les méthodes précédentes de manière consistante ?"
      ]
    },
    {
      "cell_type": "markdown",
      "metadata": {
        "id": "s-AyqT3spxFI"
      },
      "source": [
        "#### État de l'art (15 points)\n",
        "\n",
        "\n",
        "\n",
        "<u>Réponse :</u><br>\n",
        "<i>Vous pouvez rédiger ici.</i>"
      ]
    },
    {
      "cell_type": "markdown",
      "metadata": {
        "id": "8Ddey_xSp0uI"
      },
      "source": [
        "#### Code et démarche (35 points)\n",
        "\n",
        "##### Démarche et raisonnement :\n",
        "\n",
        "<ul>\n",
        "  <li>Citez vos sources qui vous aider à produire votre solution. En particulier, mentionnez la source du code que vous avez pris et modifié s'il y a lieu</li>\n",
        "  <li>Expliquez votre démarche et votre raisonnement.</li>\n",
        "</ul>\n",
        "\n",
        "\n",
        "<u>Réponse :</u><br>\n",
        "<i>Vous pouvez rédiger ici.</i>\n",
        "\n",
        "##### Code\n",
        "\n",
        "Faites en sorte que le code soit lisible et facilement interprétable."
      ]
    },
    {
      "cell_type": "code",
      "source": [
        "##Answer in the PDF file. "
      ],
      "metadata": {
        "id": "Wl2HHnCBCwoR"
      },
      "execution_count": 1,
      "outputs": []
    }
  ],
  "metadata": {
    "accelerator": "GPU",
    "colab": {
      "collapsed_sections": [],
      "name": "TP3_Squelette_Mine.ipynb",
      "provenance": []
    },
    "kernelspec": {
      "display_name": "Python 3",
      "name": "python3"
    },
    "language_info": {
      "name": "python"
    }
  },
  "nbformat": 4,
  "nbformat_minor": 0
}